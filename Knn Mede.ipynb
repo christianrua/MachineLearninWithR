{
 "cells": [
  {
   "cell_type": "code",
   "execution_count": null,
   "metadata": {},
   "outputs": [],
   "source": [
    "For this ejercice we goin to work with a data set from the Medellín town hall. this data set is about the state of nutrition of the children, \n",
    "which age are between 0 and 6 year old\n",
    "\n",
    "the features of the data set are:\n",
    "1.consecutivo=ID\n",
    "2.año=year of data\n",
    "3.regimen= thats the kind of healt plan, that the kid has\n",
    "3.eps=name of the compañy who has secured the kid in healt care\n",
    "4.sexo= sex\n",
    "5.peso=weigth\n",
    "6.estatura=heigth\n",
    "7.peso_edad_ds= ds of the weigth\n",
    "8.peso_edad_denomina= explains if the wigth is correct according to age\n",
    "9.talla_edad_ds=ds of the age\n",
    "10.talla_edad_denomina=explains if the heigth is correct according to age\n",
    "11.peso_talla_ds= ds of the heigth\n",
    "12. peso_talla_denomina=explains if the heigth and weigth is correct according to age\n",
    "13.comuna= indicates the distric of the city of Medellín where lives the children\n",
    "14.zona=indicates the zone where the distric is located\n",
    "15. Edad_dias= age in days\n",
    "16.grupo_etario= a factor of the age (0 to 2,2 to 5, 5 to 6 )\n",
    "\n",
    "Ok, lets started by dowload the file"
   ]
  },
  {
   "cell_type": "code",
   "execution_count": 74,
   "metadata": {},
   "outputs": [],
   "source": [
    "download.file(\"http://medata.gov.co/sites/default/files/medata_harvest_files/nutricion_2016.csv\", \"/resources/MyData/nutricion_2016.csv\")\n",
    "#then lest create a Data Frame\n",
    "df<-read.csv(\"/resources/MyData/nutricion_2016.csv\",sep=\";\")\n",
    "#lets conserve the following features: sexo, peso,estatura, edad_dias, and eliminate the rest. this is in this way because, the other features do not\n",
    "#explain the process of clasification\n",
    "df$consecutivo<-NULL\n",
    "df$año<-NULL\n",
    "df$regimen<-NULL\n",
    "df$eps<-NULL\n",
    "df$peso_edad_ds<-NULL\n",
    "df$peso_edad_denomina<-NULL\n",
    "df$talla_edad_ds<-NULL\n",
    "df$talla_edad_denomina<-NULL\n",
    "df$peso_talla_ds<-NULL\n",
    "df$comuna<-NULL\n",
    "df$zona<-NULL\n",
    "df$grupo_etario<-NULL"
   ]
  },
  {
   "cell_type": "code",
   "execution_count": 75,
   "metadata": {},
   "outputs": [
    {
     "name": "stdout",
     "output_type": "stream",
     "text": [
      "'data.frame':\t83861 obs. of  5 variables:\n",
      " $ sexo               : Factor w/ 2 levels \"F\",\"M\": 2 1 2 2 1 2 2 2 2 1 ...\n",
      " $ peso               : num  11.4 11.9 14.2 19.3 8.4 9.3 13.9 11.2 8.4 8.5 ...\n",
      " $ estatura           : int  79 86 92 101 72 74 98 89 66 75 ...\n",
      " $ peso_talla_denomina: Factor w/ 9 levels \"Adecuado para la edad\",..: 9 4 4 3 4 4 4 7 4 4 ...\n",
      " $ Edad_dias          : int  641 684 721 980 408 350 1754 967 283 544 ...\n"
     ]
    }
   ],
   "source": [
    "#Now lets review the info\n",
    "str(df)"
   ]
  },
  {
   "cell_type": "code",
   "execution_count": 76,
   "metadata": {},
   "outputs": [
    {
     "data": {
      "text/plain": [
       "\n",
       "                                                        Adecuado para la edad \n",
       "                                                                         6133 \n",
       "                                                                     Delgadez \n",
       "                                                                          126 \n",
       "                                                                     Obesidad \n",
       "                                                                         4165 \n",
       "                                               Peso adecuado para la estatura \n",
       "                                                                        50793 \n",
       "                  Peso bajo para la estatura o desnutricion aguda. Emaciacion \n",
       "                                                                          983 \n",
       "Peso muy bajo para la estatura o desnutricion aguda severa. Emaciacion Severa \n",
       "                                                                          263 \n",
       "                                         Riesgo de peso bajo para la estatura \n",
       "                                                                         7067 \n",
       "                                                         Riesgo para delgadez \n",
       "                                                                          839 \n",
       "                                                                    Sobrepeso \n",
       "                                                                        13492 "
      ]
     },
     "metadata": {},
     "output_type": "display_data"
    }
   ],
   "source": [
    "#lets convert the age in days, to age in years\n",
    "df$edad_años<-df$Edad_dias/360\n",
    "# now we are goin to see the total factors in the feature \"peso_talla_denomina\"\n",
    "table(df$peso_talla_denomina)"
   ]
  },
  {
   "cell_type": "code",
   "execution_count": 78,
   "metadata": {},
   "outputs": [
    {
     "data": {
      "text/html": [
       "<ol class=list-inline>\n",
       "\t<li>'Sobrepeso'</li>\n",
       "\t<li>'Adecuado para la edad'</li>\n",
       "\t<li>'Adecuado para la edad'</li>\n",
       "\t<li>'Sobrepeso'</li>\n",
       "\t<li>'Adecuado para la edad'</li>\n",
       "\t<li>'Adecuado para la edad'</li>\n",
       "</ol>\n"
      ],
      "text/latex": [
       "\\begin{enumerate*}\n",
       "\\item 'Sobrepeso'\n",
       "\\item 'Adecuado para la edad'\n",
       "\\item 'Adecuado para la edad'\n",
       "\\item 'Sobrepeso'\n",
       "\\item 'Adecuado para la edad'\n",
       "\\item 'Adecuado para la edad'\n",
       "\\end{enumerate*}\n"
      ],
      "text/markdown": [
       "1. 'Sobrepeso'\n",
       "2. 'Adecuado para la edad'\n",
       "3. 'Adecuado para la edad'\n",
       "4. 'Sobrepeso'\n",
       "5. 'Adecuado para la edad'\n",
       "6. 'Adecuado para la edad'\n",
       "\n",
       "\n"
      ],
      "text/plain": [
       "[1] \"Sobrepeso\"             \"Adecuado para la edad\" \"Adecuado para la edad\"\n",
       "[4] \"Sobrepeso\"             \"Adecuado para la edad\" \"Adecuado para la edad\""
      ]
     },
     "metadata": {},
     "output_type": "display_data"
    },
    {
     "data": {
      "text/html": [
       "<dl class=dl-horizontal>\n",
       "\t<dt>Adecuado para la edad</dt>\n",
       "\t\t<dd>56926</dd>\n",
       "\t<dt>Delgadez</dt>\n",
       "\t\t<dd>9278</dd>\n",
       "\t<dt>Sobrepeso</dt>\n",
       "\t\t<dd>17657</dd>\n",
       "</dl>\n",
       "\n",
       "<details>\n",
       "\t<summary style=display:list-item;cursor:pointer>\n",
       "\t\t<strong>Levels</strong>:\n",
       "\t</summary>\n",
       "\t<ol class=list-inline>\n",
       "\t\t<li>'9278'</li>\n",
       "\t\t<li>'17657'</li>\n",
       "\t\t<li>'56926'</li>\n",
       "\t</ol>\n",
       "</details>"
      ],
      "text/latex": [
       "\\begin{description*}\n",
       "\\item[Adecuado para la edad] 56926\n",
       "\\item[Delgadez] 9278\n",
       "\\item[Sobrepeso] 17657\n",
       "\\end{description*}\n",
       "\n",
       "\\emph{Levels}: \\begin{enumerate*}\n",
       "\\item '9278'\n",
       "\\item '17657'\n",
       "\\item '56926'\n",
       "\\end{enumerate*}\n"
      ],
      "text/markdown": [
       "Adecuado para la edad\n",
       ":   56926Delgadez\n",
       ":   9278Sobrepeso\n",
       ":   17657\n",
       "\n",
       "\n",
       "**Levels**: 1. '9278'\n",
       "2. '17657'\n",
       "3. '56926'\n",
       "\n",
       "\n"
      ],
      "text/plain": [
       "Adecuado para la edad              Delgadez             Sobrepeso \n",
       "                56926                  9278                 17657 \n",
       "Levels: 9278 17657 56926"
      ]
     },
     "metadata": {},
     "output_type": "display_data"
    }
   ],
   "source": [
    "#Ok, in this case we are goin to work only whit 3 factors, so lets replace them\n",
    "dumm<-as.character(df$peso_talla_denomina)\n",
    "dumm<-replace(dumm,dumm==\"Peso bajo para la estatura o desnutricion aguda. Emaciacion\"|dumm==\"Peso muy bajo para la estatura o desnutricion aguda severa. Emaciacion Severa\"|dumm==\"Riesgo de peso bajo para la estatura\"|dumm==\"Riesgo para delgadez\",\"Delgadez\")\n",
    "dumm<-replace(dumm,dumm==\"Obesidad\",\"Sobrepeso\")\n",
    "dumm<-replace(dumm,dumm==\"Peso adecuado para la estatura\",\"Adecuado para la edad\")\n",
    "head(dumm)\n",
    "df$peso_talla_denomina<-as.factor(dumm)\n",
    "as.factor(table(df$peso_talla_denomina))"
   ]
  },
  {
   "cell_type": "raw",
   "metadata": {},
   "source": [
    "Now is time take a sample, and normalize the data for the training and test process.\n",
    "the sample is calculated according to the formula shown here:https://www.feedbacknetworks.com/cas/experiencia/sol-preguntar-calcular.html\n",
    "n=(k^2*p*q*N)/(e^2*(N-1)+k^2*p*q)"
   ]
  },
  {
   "cell_type": "code",
   "execution_count": 113,
   "metadata": {},
   "outputs": [
    {
     "data": {
      "text/html": [
       "<table>\n",
       "<caption>A data.frame: 6 × 6</caption>\n",
       "<thead>\n",
       "\t<tr><th></th><th scope=col>sexo</th><th scope=col>peso</th><th scope=col>estatura</th><th scope=col>peso_talla_denomina</th><th scope=col>Edad_dias</th><th scope=col>edad_años</th></tr>\n",
       "\t<tr><th></th><th scope=col>&lt;fct&gt;</th><th scope=col>&lt;dbl&gt;</th><th scope=col>&lt;int&gt;</th><th scope=col>&lt;fct&gt;</th><th scope=col>&lt;int&gt;</th><th scope=col>&lt;dbl&gt;</th></tr>\n",
       "</thead>\n",
       "<tbody>\n",
       "\t<tr><th scope=row>42943</th><td>M</td><td>14.0</td><td> 91</td><td>Adecuado para la edad</td><td> 946</td><td>2.627778</td></tr>\n",
       "\t<tr><th scope=row>50433</th><td>M</td><td>21.5</td><td>103</td><td>Sobrepeso            </td><td>1292</td><td>3.588889</td></tr>\n",
       "\t<tr><th scope=row>76648</th><td>M</td><td>15.0</td><td>100</td><td>Adecuado para la edad</td><td>1789</td><td>4.969444</td></tr>\n",
       "\t<tr><th scope=row>54288</th><td>F</td><td> 9.4</td><td> 78</td><td>Adecuado para la edad</td><td> 651</td><td>1.808333</td></tr>\n",
       "\t<tr><th scope=row>15848</th><td>F</td><td>20.1</td><td> 97</td><td>Sobrepeso            </td><td>1156</td><td>3.211111</td></tr>\n",
       "\t<tr><th scope=row>70100</th><td>M</td><td>14.0</td><td>109</td><td>Delgadez             </td><td> 494</td><td>1.372222</td></tr>\n",
       "</tbody>\n",
       "</table>\n"
      ],
      "text/latex": [
       "A data.frame: 6 × 6\n",
       "\\begin{tabular}{r|llllll}\n",
       "  & sexo & peso & estatura & peso\\_talla\\_denomina & Edad\\_dias & edad\\_años\\\\\n",
       "  & <fct> & <dbl> & <int> & <fct> & <int> & <dbl>\\\\\n",
       "\\hline\n",
       "\t42943 & M & 14.0 &  91 & Adecuado para la edad &  946 & 2.627778\\\\\n",
       "\t50433 & M & 21.5 & 103 & Sobrepeso             & 1292 & 3.588889\\\\\n",
       "\t76648 & M & 15.0 & 100 & Adecuado para la edad & 1789 & 4.969444\\\\\n",
       "\t54288 & F &  9.4 &  78 & Adecuado para la edad &  651 & 1.808333\\\\\n",
       "\t15848 & F & 20.1 &  97 & Sobrepeso             & 1156 & 3.211111\\\\\n",
       "\t70100 & M & 14.0 & 109 & Delgadez              &  494 & 1.372222\\\\\n",
       "\\end{tabular}\n"
      ],
      "text/markdown": [
       "\n",
       "A data.frame: 6 × 6\n",
       "\n",
       "| <!--/--> | sexo &lt;fct&gt; | peso &lt;dbl&gt; | estatura &lt;int&gt; | peso_talla_denomina &lt;fct&gt; | Edad_dias &lt;int&gt; | edad_años &lt;dbl&gt; |\n",
       "|---|---|---|---|---|---|---|\n",
       "| 42943 | M | 14.0 |  91 | Adecuado para la edad |  946 | 2.627778 |\n",
       "| 50433 | M | 21.5 | 103 | Sobrepeso             | 1292 | 3.588889 |\n",
       "| 76648 | M | 15.0 | 100 | Adecuado para la edad | 1789 | 4.969444 |\n",
       "| 54288 | F |  9.4 |  78 | Adecuado para la edad |  651 | 1.808333 |\n",
       "| 15848 | F | 20.1 |  97 | Sobrepeso             | 1156 | 3.211111 |\n",
       "| 70100 | M | 14.0 | 109 | Delgadez              |  494 | 1.372222 |\n",
       "\n"
      ],
      "text/plain": [
       "      sexo peso estatura peso_talla_denomina   Edad_dias edad_años\n",
       "42943 M    14.0  91      Adecuado para la edad  946      2.627778 \n",
       "50433 M    21.5 103      Sobrepeso             1292      3.588889 \n",
       "76648 M    15.0 100      Adecuado para la edad 1789      4.969444 \n",
       "54288 F     9.4  78      Adecuado para la edad  651      1.808333 \n",
       "15848 F    20.1  97      Sobrepeso             1156      3.211111 \n",
       "70100 M    14.0 109      Delgadez               494      1.372222 "
      ]
     },
     "metadata": {},
     "output_type": "display_data"
    }
   ],
   "source": [
    "sample_size<-round(((1.96)^2*0.5*0.5*83861)/((0.05^2)*(83861-1)+(1.96)^2*0.5*0.5))\n",
    "rows_sample<-sample(1:nrow(df),1000)\n",
    "df_sample<-df[rows_sample,]\n",
    "head(df_sample)"
   ]
  },
  {
   "cell_type": "raw",
   "metadata": {},
   "source": [
    "well it´s seem we don´t need the feature \"Edad_dias\", so lets remove it, and let´s normalize the rest of the data.but first lets see distribution of the data"
   ]
  },
  {
   "cell_type": "code",
   "execution_count": 114,
   "metadata": {},
   "outputs": [
    {
     "data": {
      "text/plain": [
       "      peso          estatura        edad_años     \n",
       " Min.   : 3.07   Min.   : 47.00   Min.   :0.1222  \n",
       " 1st Qu.: 9.70   1st Qu.: 76.00   1st Qu.:1.2965  \n",
       " Median :13.00   Median : 90.00   Median :2.7306  \n",
       " Mean   :12.93   Mean   : 88.07   Mean   :2.8036  \n",
       " 3rd Qu.:16.00   3rd Qu.:101.00   3rd Qu.:4.1882  \n",
       " Max.   :34.00   Max.   :126.00   Max.   :6.2111  "
      ]
     },
     "metadata": {},
     "output_type": "display_data"
    },
    {
     "name": "stdout",
     "output_type": "stream",
     "text": [
      "'data.frame':\t1000 obs. of  5 variables:\n",
      " $ sexo               : Factor w/ 2 levels \"F\",\"M\": 2 2 2 1 1 2 2 2 1 2 ...\n",
      " $ peso               : num  14 21.5 15 9.4 20.1 14 5.1 11.4 16.7 13 ...\n",
      " $ estatura           : int  91 103 100 78 97 109 57 90 102 83 ...\n",
      " $ peso_talla_denomina: Factor w/ 3 levels \"Adecuado para la edad\",..: 1 3 1 1 3 2 1 2 1 3 ...\n",
      " $ edad_años          : num  2.63 3.59 4.97 1.81 3.21 ...\n",
      " Factor w/ 3 levels \"Adecuado para la edad\",..: 1 3 1 1 3 2 1 2 1 3 ...\n"
     ]
    },
    {
     "data": {
      "text/html": [
       "<ol class=list-inline>\n",
       "\t<li>Adecuado para la edad</li>\n",
       "\t<li>Sobrepeso</li>\n",
       "\t<li>Adecuado para la edad</li>\n",
       "\t<li>Adecuado para la edad</li>\n",
       "\t<li>Sobrepeso</li>\n",
       "\t<li>Delgadez</li>\n",
       "\t<li>Adecuado para la edad</li>\n",
       "\t<li>Delgadez</li>\n",
       "\t<li>Adecuado para la edad</li>\n",
       "\t<li>Sobrepeso</li>\n",
       "</ol>\n",
       "\n",
       "<details>\n",
       "\t<summary style=display:list-item;cursor:pointer>\n",
       "\t\t<strong>Levels</strong>:\n",
       "\t</summary>\n",
       "\t<ol class=list-inline>\n",
       "\t\t<li>'Adecuado para la edad'</li>\n",
       "\t\t<li>'Delgadez'</li>\n",
       "\t\t<li>'Sobrepeso'</li>\n",
       "\t</ol>\n",
       "</details>"
      ],
      "text/latex": [
       "\\begin{enumerate*}\n",
       "\\item Adecuado para la edad\n",
       "\\item Sobrepeso\n",
       "\\item Adecuado para la edad\n",
       "\\item Adecuado para la edad\n",
       "\\item Sobrepeso\n",
       "\\item Delgadez\n",
       "\\item Adecuado para la edad\n",
       "\\item Delgadez\n",
       "\\item Adecuado para la edad\n",
       "\\item Sobrepeso\n",
       "\\end{enumerate*}\n",
       "\n",
       "\\emph{Levels}: \\begin{enumerate*}\n",
       "\\item 'Adecuado para la edad'\n",
       "\\item 'Delgadez'\n",
       "\\item 'Sobrepeso'\n",
       "\\end{enumerate*}\n"
      ],
      "text/markdown": [
       "1. Adecuado para la edad\n",
       "2. Sobrepeso\n",
       "3. Adecuado para la edad\n",
       "4. Adecuado para la edad\n",
       "5. Sobrepeso\n",
       "6. Delgadez\n",
       "7. Adecuado para la edad\n",
       "8. Delgadez\n",
       "9. Adecuado para la edad\n",
       "10. Sobrepeso\n",
       "\n",
       "\n",
       "\n",
       "**Levels**: 1. 'Adecuado para la edad'\n",
       "2. 'Delgadez'\n",
       "3. 'Sobrepeso'\n",
       "\n",
       "\n"
      ],
      "text/plain": [
       " [1] Adecuado para la edad Sobrepeso             Adecuado para la edad\n",
       " [4] Adecuado para la edad Sobrepeso             Delgadez             \n",
       " [7] Adecuado para la edad Delgadez              Adecuado para la edad\n",
       "[10] Sobrepeso            \n",
       "Levels: Adecuado para la edad Delgadez Sobrepeso"
      ]
     },
     "metadata": {},
     "output_type": "display_data"
    }
   ],
   "source": [
    "df_sample$Edad_dias<-NULL\n",
    "summary(df_sample[c(\"peso\",\"estatura\",\"edad_años\")])\n",
    "str(df_sample)\n",
    "str(df_sample$peso_talla_denomina)\n",
    "head(df_sample$peso_talla_denomina,10)\n"
   ]
  },
  {
   "cell_type": "code",
   "execution_count": 115,
   "metadata": {},
   "outputs": [
    {
     "name": "stdout",
     "output_type": "stream",
     "text": [
      "'data.frame':\t1000 obs. of  5 variables:\n",
      " $ peso_talla_denomina: Factor w/ 3 levels \"Adecuado para la edad\",..: 1 3 1 1 3 2 1 2 1 3 ...\n",
      " $ sexo               : logi  TRUE TRUE TRUE FALSE FALSE TRUE ...\n",
      " $ peso               : num  0.353 0.596 0.386 0.205 0.551 ...\n",
      " $ estatura           : num  0.557 0.709 0.671 0.392 0.633 ...\n",
      " $ edad_años          : num  0.411 0.569 0.796 0.277 0.507 ...\n"
     ]
    }
   ],
   "source": [
    "#so lest's prepare the data\n",
    "normalize <- function(x) {return ((x - min(x)) / (max(x) - min(x)))}#this function is for normalize the data\n",
    "df_sample_2<-subset (df_sample, select=c(4,1,2,3,5))#lets re organize the data\n",
    "df_sample_2$peso_talla_denomina<- factor(df_sample_2$peso_talla_denomina, levels = c('Adecuado para la edad', 'Delgadez','Sobrepeso'),labels = c('Adecuado para la edad', 'Delgadez','Sobrepeso'))\n",
    "df_sample_2$sexo<-df_sample_2$sexo %in% c(\"M\")#this is because M=Male=1, and F=Female=0\n",
    "df_sample_2$peso<-normalize(df_sample_2$peso)\n",
    "df_sample_2$estatura<-normalize(df_sample_2$estatura)\n",
    "df_sample_2$edad_años<-normalize(df_sample_2$edad_años)\n",
    "\n",
    "str(df_sample_2)\n"
   ]
  },
  {
   "cell_type": "code",
   "execution_count": 121,
   "metadata": {},
   "outputs": [
    {
     "data": {
      "text/plain": [
       "labels_train\n",
       "Adecuado para la edad              Delgadez             Sobrepeso \n",
       "                 68.6                  10.4                  21.0 "
      ]
     },
     "metadata": {},
     "output_type": "display_data"
    },
    {
     "data": {
      "text/plain": [
       "labels_test\n",
       "Adecuado para la edad              Delgadez             Sobrepeso \n",
       "                 67.4                  11.6                  20.9 "
      ]
     },
     "metadata": {},
     "output_type": "display_data"
    }
   ],
   "source": [
    "#OK, lets prepare our training data set (70%) and our test data set (30%)\n",
    "train <- df_sample_2[1:700,2:4]\n",
    "test<-df_sample_2[700:1000,2:4]\n",
    "labels_train<-df_sample_2[1:700,1]\n",
    "labels_test<-df_sample_2[700:1000,1]\n",
    "round(prop.table(table(labels_train)) * 100, digits = 1)\n",
    "round(prop.table(table(labels_test)) * 100, digits = 1)"
   ]
  },
  {
   "cell_type": "code",
   "execution_count": 123,
   "metadata": {},
   "outputs": [],
   "source": [
    "# let's train the model\n",
    "library(class)\n",
    "model<-knn(train = train, test = test,cl = labels_train, k = 19)#here k=rsq(sample size), sqr(382)=19"
   ]
  },
  {
   "cell_type": "code",
   "execution_count": null,
   "metadata": {},
   "outputs": [],
   "source": []
  },
  {
   "cell_type": "code",
   "execution_count": 124,
   "metadata": {},
   "outputs": [
    {
     "name": "stderr",
     "output_type": "stream",
     "text": [
      "Updating HTML index of packages in '.Library'\n",
      "Making 'packages.html' ... done\n"
     ]
    },
    {
     "name": "stdout",
     "output_type": "stream",
     "text": [
      "\n",
      " \n",
      "   Cell Contents\n",
      "|-------------------------|\n",
      "|                       N |\n",
      "|           N / Row Total |\n",
      "|           N / Col Total |\n",
      "|         N / Table Total |\n",
      "|-------------------------|\n",
      "\n",
      " \n",
      "Total Observations in Table:  301 \n",
      "\n",
      " \n",
      "                      | model \n",
      "          labels_test | Adecuado para la edad |             Sobrepeso |             Row Total | \n",
      "----------------------|-----------------------|-----------------------|-----------------------|\n",
      "Adecuado para la edad |                   203 |                     0 |                   203 | \n",
      "                      |                 1.000 |                 0.000 |                 0.674 | \n",
      "                      |                 0.715 |                 0.000 |                       | \n",
      "                      |                 0.674 |                 0.000 |                       | \n",
      "----------------------|-----------------------|-----------------------|-----------------------|\n",
      "             Delgadez |                    35 |                     0 |                    35 | \n",
      "                      |                 1.000 |                 0.000 |                 0.116 | \n",
      "                      |                 0.123 |                 0.000 |                       | \n",
      "                      |                 0.116 |                 0.000 |                       | \n",
      "----------------------|-----------------------|-----------------------|-----------------------|\n",
      "            Sobrepeso |                    46 |                    17 |                    63 | \n",
      "                      |                 0.730 |                 0.270 |                 0.209 | \n",
      "                      |                 0.162 |                 1.000 |                       | \n",
      "                      |                 0.153 |                 0.056 |                       | \n",
      "----------------------|-----------------------|-----------------------|-----------------------|\n",
      "         Column Total |                   284 |                    17 |                   301 | \n",
      "                      |                 0.944 |                 0.056 |                       | \n",
      "----------------------|-----------------------|-----------------------|-----------------------|\n",
      "\n",
      " \n"
     ]
    }
   ],
   "source": [
    "#lets validate the perfomance\n",
    "install.packages(\"gmodels\")\n",
    "library(gmodels)\n",
    "CrossTable(x = labels_test, y = model,prop.chisq=FALSE)"
   ]
  },
  {
   "cell_type": "code",
   "execution_count": null,
   "metadata": {},
   "outputs": [],
   "source": []
  }
 ],
 "metadata": {
  "kernelspec": {
   "display_name": "R",
   "language": "R",
   "name": "conda-env-r-r"
  },
  "language_info": {
   "codemirror_mode": "r",
   "file_extension": ".r",
   "mimetype": "text/x-r-source",
   "name": "R",
   "pygments_lexer": "r",
   "version": "3.5.1"
  }
 },
 "nbformat": 4,
 "nbformat_minor": 4
}
