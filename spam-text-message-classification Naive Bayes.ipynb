{
 "cells": [
  {
   "cell_type": "markdown",
   "metadata": {},
   "source": [
    "<h1>Classification Using Naive Bayes Algorithm</h1>"
   ]
  },
  {
   "cell_type": "markdown",
   "metadata": {},
   "source": [
    "For this exercise we are going to work with a data set that has info about a MSM,and it´s has a classification too, this classification are: SPAM or HAM.\n",
    "\n",
    "this Data Set is available in this direction: https://www.kaggle.com/team-ai/spam-text-message-classification.\n",
    "\n",
    "first of all, lets download the file from the direction above, and lets upload to the work space"
   ]
  },
  {
   "cell_type": "code",
   "execution_count": 1,
   "metadata": {},
   "outputs": [],
   "source": [
    "df<- read.csv(\"/resources/MyData/MyRModels/NaiveBayes/SPAM text message 20170820 - Data.csv\",stringsAsFactors = FALSE)"
   ]
  },
  {
   "cell_type": "markdown",
   "metadata": {},
   "source": [
    "we goin to see the structure of the file first, there are 5572 observations, with 2 features, category and Message. in the category feature there are to classes: ham and spam. the message features has the raw SMS text."
   ]
  },
  {
   "cell_type": "code",
   "execution_count": 2,
   "metadata": {},
   "outputs": [
    {
     "name": "stdout",
     "output_type": "stream",
     "text": [
      "'data.frame':\t5572 obs. of  2 variables:\n",
      " $ Category: chr  \"ham\" \"ham\" \"spam\" \"ham\" ...\n",
      " $ Message : chr  \"Go until jurong point, crazy.. Available only in bugis n great world la e buffet... Cine there got amore wat...\" \"Ok lar... Joking wif u oni...\" \"Free entry in 2 a wkly comp to win FA Cup final tkts 21st May 2005. Text FA to 87121 to receive entry question(\"| __truncated__ \"U dun say so early hor... U c already then say...\" ...\n"
     ]
    }
   ],
   "source": [
    "str(df)"
   ]
  },
  {
   "cell_type": "markdown",
   "metadata": {},
   "source": [
    "Now, category is character vector, and we have to cast this to factor, because is a categorical variable"
   ]
  },
  {
   "cell_type": "code",
   "execution_count": 3,
   "metadata": {},
   "outputs": [
    {
     "name": "stdout",
     "output_type": "stream",
     "text": [
      " Factor w/ 2 levels \"ham\",\"spam\": 1 1 2 1 1 2 1 1 2 2 ...\n"
     ]
    },
    {
     "data": {
      "text/plain": [
       "\n",
       " ham spam \n",
       "4825  747 "
      ]
     },
     "metadata": {},
     "output_type": "display_data"
    }
   ],
   "source": [
    "df$Category<- as.factor(df$Category)\n",
    "str(df$Category)#lets check if the cast is ok\n",
    "table(df$Category)# lets check the distribution of the factor in the data"
   ]
  },
  {
   "cell_type": "markdown",
   "metadata": {},
   "source": [
    "Now we hace to preparete and clean the data, because we have to elminate the puntuation signs, the words that connects phrases like \"and\", \"but\", and \"or\". also, we have to eliminate the numbers. for this porpuse we are goin to use text mining package titled tm."
   ]
  },
  {
   "cell_type": "code",
   "execution_count": 4,
   "metadata": {},
   "outputs": [
    {
     "name": "stderr",
     "output_type": "stream",
     "text": [
      "also installing the dependencies ‘NLP’, ‘slam’\n",
      "\n",
      "Updating HTML index of packages in '.Library'\n",
      "Making 'packages.html' ... done\n",
      "Loading required package: NLP\n"
     ]
    }
   ],
   "source": [
    "install.packages(\"tm\")\n",
    "library(tm)"
   ]
  },
  {
   "cell_type": "markdown",
   "metadata": {},
   "source": [
    "the first step is creating a \"corpus\", this corpus will contain the words.\n",
    "for this we use the function VCorpus(), this fucntions is for create a object thats stores in memory, and we goin to need the function VectorSource(), this function reads the info from the df and put´s in the Vcorpus() function  "
   ]
  },
  {
   "cell_type": "code",
   "execution_count": 5,
   "metadata": {},
   "outputs": [
    {
     "name": "stdout",
     "output_type": "stream",
     "text": [
      "<<VCorpus>>\n",
      "Metadata:  corpus specific: 0, document level (indexed): 0\n",
      "Content:  documents: 5572\n",
      "<<VCorpus>>\n",
      "Metadata:  corpus specific: 0, document level (indexed): 0\n",
      "Content:  documents: 2\n",
      "\n",
      "[[1]]\n",
      "<<PlainTextDocument>>\n",
      "Metadata:  7\n",
      "Content:  chars: 111\n",
      "\n",
      "[[2]]\n",
      "<<PlainTextDocument>>\n",
      "Metadata:  7\n",
      "Content:  chars: 29\n",
      "\n"
     ]
    },
    {
     "data": {
      "text/html": [
       "'Go until jurong point, crazy.. Available only in bugis n great world la e buffet... Cine there got amore wat...'"
      ],
      "text/latex": [
       "'Go until jurong point, crazy.. Available only in bugis n great world la e buffet... Cine there got amore wat...'"
      ],
      "text/markdown": [
       "'Go until jurong point, crazy.. Available only in bugis n great world la e buffet... Cine there got amore wat...'"
      ],
      "text/plain": [
       "[1] \"Go until jurong point, crazy.. Available only in bugis n great world la e buffet... Cine there got amore wat...\""
      ]
     },
     "metadata": {},
     "output_type": "display_data"
    }
   ],
   "source": [
    "sms_corpus <- VCorpus(VectorSource(df$Message))\n",
    "print(sms_corpus)#lets check the content\n",
    "inspect(sms_corpus[1:2])#this is a complex list, so we can manipulate like a list\n",
    "as.character(sms_corpus[[1]])#if you want to see a message, you hae to use the as.character function"
   ]
  },
  {
   "cell_type": "markdown",
   "metadata": {},
   "source": [
    "ok, now lets start with dividing the text in individual words. we are goin to do this by cleaning the text, standardization the words by removing punctuation and other characters that clutter the result, and put all the words in lowercase "
   ]
  },
  {
   "cell_type": "code",
   "execution_count": 6,
   "metadata": {},
   "outputs": [
    {
     "data": {
      "text/html": [
       "'Go until jurong point, crazy.. Available only in bugis n great world la e buffet... Cine there got amore wat...'"
      ],
      "text/latex": [
       "'Go until jurong point, crazy.. Available only in bugis n great world la e buffet... Cine there got amore wat...'"
      ],
      "text/markdown": [
       "'Go until jurong point, crazy.. Available only in bugis n great world la e buffet... Cine there got amore wat...'"
      ],
      "text/plain": [
       "[1] \"Go until jurong point, crazy.. Available only in bugis n great world la e buffet... Cine there got amore wat...\""
      ]
     },
     "metadata": {},
     "output_type": "display_data"
    },
    {
     "data": {
      "text/html": [
       "'go until jurong point, crazy.. available only in bugis n great world la e buffet... cine there got amore wat...'"
      ],
      "text/latex": [
       "'go until jurong point, crazy.. available only in bugis n great world la e buffet... cine there got amore wat...'"
      ],
      "text/markdown": [
       "'go until jurong point, crazy.. available only in bugis n great world la e buffet... cine there got amore wat...'"
      ],
      "text/plain": [
       "[1] \"go until jurong point, crazy.. available only in bugis n great world la e buffet... cine there got amore wat...\""
      ]
     },
     "metadata": {},
     "output_type": "display_data"
    }
   ],
   "source": [
    "sms_corpus_clean <- tm_map(sms_corpus,content_transformer(tolower))\n",
    "as.character(sms_corpus[[1]])#lets compare the result\n",
    "as.character(sms_corpus_clean[[1]])"
   ]
  },
  {
   "cell_type": "code",
   "execution_count": 7,
   "metadata": {},
   "outputs": [],
   "source": [
    "sms_corpus_clean <- tm_map(sms_corpus_clean, removeNumbers)#remove the numbers\n",
    "sms_corpus_clean <- tm_map(sms_corpus_clean,removeWords, stopwords())# during the cleaning process, the Stop wors like to, and, but, and or\n",
    "sms_corpus_clean <- tm_map(sms_corpus_clean, removePunctuation)#remove the punctuation"
   ]
  },
  {
   "cell_type": "markdown",
   "metadata": {},
   "source": [
    "so, the next step is to temming the words, this mean, that the words are transform to they root form. for this we need the SnowballC library"
   ]
  },
  {
   "cell_type": "code",
   "execution_count": 8,
   "metadata": {},
   "outputs": [
    {
     "name": "stderr",
     "output_type": "stream",
     "text": [
      "Updating HTML index of packages in '.Library'\n",
      "Making 'packages.html' ... done\n"
     ]
    }
   ],
   "source": [
    "install.packages(\"SnowballC\")\n",
    "library(SnowballC)\n",
    "sms_corpus_clean <- tm_map(sms_corpus_clean, stemDocument)\n",
    "sms_corpus_clean <- tm_map(sms_corpus_clean, stripWhitespace)#elminate white spaces\n"
   ]
  },
  {
   "cell_type": "code",
   "execution_count": 9,
   "metadata": {},
   "outputs": [
    {
     "data": {
      "text/html": [
       "<ol class=list-inline>\n",
       "\t<li><span style=white-space:pre-wrap>'list(list(content = \"go jurong point crazi avail bugi n great world la e buffet cine got amor wat\", meta = list(author = character(0), datetimestamp = list(sec = 4.00197243690491, min = 56, hour = 21, mday = 22, mon = 7, year = 119, wday = 4, yday = 233, isdst = 0), description = character(0), heading = character(0), id = \"1\", language = \"en\", origin = character(0))), list(content = \"ok lar joke wif u oni\", meta = list(author = character(0), datetimestamp = list(sec = 4.00227952003479, min = 56, \\n    hour = 21, mday = 22, mon = 7, year = 119, wday = 4, yday = 233, isdst = 0), description = character(0), heading = character(0), id = \"2\", language = \"en\", origin = character(0))), list(content = \"free entri wkli comp win fa cup final tkts st may text fa receiv entri questionstd txt ratetc appli s\", meta = list(author = character(0), datetimestamp = list(sec = 4.00241732597351, min = 56, hour = 21, mday = 22, mon = 7, year = 119, wday = 4, yday = 233, isdst = 0), description = character(0), heading = character(0), \\n    id = \"3\", language = \"en\", origin = character(0))))'</span></li>\n",
       "\t<li>'list()'</li>\n",
       "\t<li>'list()'</li>\n",
       "</ol>\n"
      ],
      "text/latex": [
       "\\begin{enumerate*}\n",
       "\\item 'list(list(content = \"go jurong point crazi avail bugi n great world la e buffet cine got amor wat\", meta = list(author = character(0), datetimestamp = list(sec = 4.00197243690491, min = 56, hour = 21, mday = 22, mon = 7, year = 119, wday = 4, yday = 233, isdst = 0), description = character(0), heading = character(0), id = \"1\", language = \"en\", origin = character(0))), list(content = \"ok lar joke wif u oni\", meta = list(author = character(0), datetimestamp = list(sec = 4.00227952003479, min = 56, \\textbackslash{}n    hour = 21, mday = 22, mon = 7, year = 119, wday = 4, yday = 233, isdst = 0), description = character(0), heading = character(0), id = \"2\", language = \"en\", origin = character(0))), list(content = \"free entri wkli comp win fa cup final tkts st may text fa receiv entri questionstd txt ratetc appli s\", meta = list(author = character(0), datetimestamp = list(sec = 4.00241732597351, min = 56, hour = 21, mday = 22, mon = 7, year = 119, wday = 4, yday = 233, isdst = 0), description = character(0), heading = character(0), \\textbackslash{}n    id = \"3\", language = \"en\", origin = character(0))))'\n",
       "\\item 'list()'\n",
       "\\item 'list()'\n",
       "\\end{enumerate*}\n"
      ],
      "text/markdown": [
       "1. <span style=white-space:pre-wrap>'list(list(content = \"go jurong point crazi avail bugi n great world la e buffet cine got amor wat\", meta = list(author = character(0), datetimestamp = list(sec = 4.00197243690491, min = 56, hour = 21, mday = 22, mon = 7, year = 119, wday = 4, yday = 233, isdst = 0), description = character(0), heading = character(0), id = \"1\", language = \"en\", origin = character(0))), list(content = \"ok lar joke wif u oni\", meta = list(author = character(0), datetimestamp = list(sec = 4.00227952003479, min = 56, \\n    hour = 21, mday = 22, mon = 7, year = 119, wday = 4, yday = 233, isdst = 0), description = character(0), heading = character(0), id = \"2\", language = \"en\", origin = character(0))), list(content = \"free entri wkli comp win fa cup final tkts st may text fa receiv entri questionstd txt ratetc appli s\", meta = list(author = character(0), datetimestamp = list(sec = 4.00241732597351, min = 56, hour = 21, mday = 22, mon = 7, year = 119, wday = 4, yday = 233, isdst = 0), description = character(0), heading = character(0), \\n    id = \"3\", language = \"en\", origin = character(0))))'</span>\n",
       "2. 'list()'\n",
       "3. 'list()'\n",
       "\n",
       "\n"
      ],
      "text/plain": [
       "[1] \"list(list(content = \\\"go jurong point crazi avail bugi n great world la e buffet cine got amor wat\\\", meta = list(author = character(0), datetimestamp = list(sec = 4.00197243690491, min = 56, hour = 21, mday = 22, mon = 7, year = 119, wday = 4, yday = 233, isdst = 0), description = character(0), heading = character(0), id = \\\"1\\\", language = \\\"en\\\", origin = character(0))), list(content = \\\"ok lar joke wif u oni\\\", meta = list(author = character(0), datetimestamp = list(sec = 4.00227952003479, min = 56, \\n    hour = 21, mday = 22, mon = 7, year = 119, wday = 4, yday = 233, isdst = 0), description = character(0), heading = character(0), id = \\\"2\\\", language = \\\"en\\\", origin = character(0))), list(content = \\\"free entri wkli comp win fa cup final tkts st may text fa receiv entri questionstd txt ratetc appli s\\\", meta = list(author = character(0), datetimestamp = list(sec = 4.00241732597351, min = 56, hour = 21, mday = 22, mon = 7, year = 119, wday = 4, yday = 233, isdst = 0), description = character(0), heading = character(0), \\n    id = \\\"3\\\", language = \\\"en\\\", origin = character(0))))\"\n",
       "[2] \"list()\"                                                                                                                                                                                                                                                                                                                                                                                                                                                                                                                                                                                                                                                                                                                                                                                                                                                                                                                                                                                                                                                                                                                                        \n",
       "[3] \"list()\"                                                                                                                                                                                                                                                                                                                                                                                                                                                                                                                                                                                                                                                                                                                                                                                                                                                                                                                                                                                                                                                                                                                                        "
      ]
     },
     "metadata": {},
     "output_type": "display_data"
    }
   ],
   "source": [
    "as.character(sms_corpus_clean[1:3])#check the result of the cleaning the data"
   ]
  },
  {
   "cell_type": "markdown",
   "metadata": {},
   "source": [
    "well, in this lap, lets separate the words, via tokenization process. the result set is save at a Document Term Matrix (DTM) in which rows indicate documents (SMS messages) and columns indicate terms (words)."
   ]
  },
  {
   "cell_type": "code",
   "execution_count": 10,
   "metadata": {},
   "outputs": [
    {
     "name": "stdout",
     "output_type": "stream",
     "text": [
      "List of 6\n",
      " $ i       : int [1:42593] 1 1 1 1 1 1 1 1 1 1 ...\n",
      " $ j       : int [1:42593] 212 395 770 772 1038 1245 2314 2350 2953 4289 ...\n",
      " $ v       : num [1:42593] 1 1 1 1 1 1 1 1 1 1 ...\n",
      " $ nrow    : int 5572\n",
      " $ ncol    : int 6605\n",
      " $ dimnames:List of 2\n",
      "  ..$ Docs : chr [1:5572] \"1\" \"2\" \"3\" \"4\" ...\n",
      "  ..$ Terms: chr [1:6605] \"…thank\" \"‘ll\" \"‘re\" \"‘ve\" ...\n",
      " - attr(*, \"class\")= chr [1:2] \"DocumentTermMatrix\" \"simple_triplet_matrix\"\n",
      " - attr(*, \"weighting\")= chr [1:2] \"term frequency\" \"tf\"\n"
     ]
    }
   ],
   "source": [
    "sms_dtm <- DocumentTermMatrix(sms_corpus_clean)\n",
    "str(sms_dtm)"
   ]
  },
  {
   "cell_type": "markdown",
   "metadata": {},
   "source": [
    "Now, lets preparete our training(75%=4179) and test (25%=1393) data set."
   ]
  },
  {
   "cell_type": "code",
   "execution_count": 39,
   "metadata": {},
   "outputs": [],
   "source": [
    "sms_dtm_train <- sms_dtm[1:4179, ]\n",
    "sms_dtm_test <- sms_dtm[4180:5572, ]\n",
    "sms_train_labels <- df[1:4179, 1]#labels\n",
    "sms_test_labels <- df[4180:5572, 1]"
   ]
  },
  {
   "cell_type": "markdown",
   "metadata": {},
   "source": [
    "lets see the word cloud"
   ]
  },
  {
   "cell_type": "code",
   "execution_count": 27,
   "metadata": {},
   "outputs": [
    {
     "name": "stderr",
     "output_type": "stream",
     "text": [
      "Updating HTML index of packages in '.Library'\n",
      "Making 'packages.html' ... done\n"
     ]
    },
    {
     "data": {
      "image/png": "[encoded data removed]",
      "text/plain": [
       "plot without title"
      ]
     },
     "metadata": {},
     "output_type": "display_data",
     "source": "R display func"
    }
   ],
   "source": [
    "install.packages(\"wordcloud\")\n",
    "library(wordcloud)\n",
    "wordcloud(sms_corpus_clean, min.freq = 50, random.order = FALSE)"
   ]
  },
  {
   "cell_type": "markdown",
   "metadata": {},
   "source": [
    "OK, for training the model, the are a few steps to do:\n",
    "1. Cast the sparse matrix to Data Frame\n",
    "2. Reduce the sizes of the matrix, because the are words than just appear lest than 5% of the times, so this kind of words do not help t train well the model.\n",
    "3. find the frequent words, and save them in a character vector."
   ]
  },
  {
   "cell_type": "code",
   "execution_count": 28,
   "metadata": {},
   "outputs": [
    {
     "name": "stdout",
     "output_type": "stream",
     "text": [
      " chr [1:1161] \"£wk\" \"abiola\" \"abl\" \"abt\" \"accept\" \"access\" \"account\" ...\n"
     ]
    }
   ],
   "source": [
    "sms_freq_words <- findFreqTerms(sms_dtm_train, 5)#the frequency is upset to 5 in each msm\n",
    "str(sms_freq_words)"
   ]
  },
  {
   "cell_type": "code",
   "execution_count": 29,
   "metadata": {},
   "outputs": [],
   "source": [
    "sms_dtm_freq_train<- sms_dtm_train[ , sms_freq_words]#we filter the DTM with the words in character vector we made\n",
    "sms_dtm_freq_test <- sms_dtm_test[ , sms_freq_words]\n"
   ]
  },
  {
   "cell_type": "markdown",
   "metadata": {},
   "source": [
    "Because the Naive Bayes works with categorical data, and the DTM have numbers, we have to cast the numbers to a categorical form (yes or no)"
   ]
  },
  {
   "cell_type": "code",
   "execution_count": 30,
   "metadata": {},
   "outputs": [
    {
     "data": {
      "text/html": [
       "4179"
      ],
      "text/latex": [
       "4179"
      ],
      "text/markdown": [
       "4179"
      ],
      "text/plain": [
       "[1] 4179"
      ]
     },
     "metadata": {},
     "output_type": "display_data"
    }
   ],
   "source": [
    "nrow(sms_dtm_freq_train)"
   ]
  },
  {
   "cell_type": "code",
   "execution_count": 31,
   "metadata": {},
   "outputs": [],
   "source": [
    "convert_counts <- function(x) {x <- ifelse(x > 0, \"Yes\", \"No\")}#function to cast numeric data to categorical data\n",
    "sms_train <- apply(sms_dtm_freq_train, MARGIN = 2,convert_counts)#apply helps to apply the function in each column (Margin=2)\n",
    "sms_test <- apply(sms_dtm_freq_test, MARGIN = 2,convert_counts)"
   ]
  },
  {
   "cell_type": "markdown",
   "metadata": {},
   "source": [
    "Now, lets started with the training the model, remember that this model works with condicionality probability, and it will indicate us if a MSM is a\n",
    "Spam or ham."
   ]
  },
  {
   "cell_type": "code",
   "execution_count": 40,
   "metadata": {},
   "outputs": [
    {
     "data": {
      "text/html": [
       "4179"
      ],
      "text/latex": [
       "4179"
      ],
      "text/markdown": [
       "4179"
      ],
      "text/plain": [
       "[1] 4179"
      ]
     },
     "metadata": {},
     "output_type": "display_data"
    },
    {
     "data": {
      "text/plain": [
       "NULL"
      ]
     },
     "metadata": {},
     "output_type": "display_data"
    }
   ],
   "source": [
    "nrow(sms_train)\n",
    "nrow(sms_train_labels)"
   ]
  },
  {
   "cell_type": "code",
   "execution_count": 38,
   "metadata": {},
   "outputs": [
    {
     "name": "stderr",
     "output_type": "stream",
     "text": [
      "Updating HTML index of packages in '.Library'\n",
      "Making 'packages.html' ... done\n"
     ]
    }
   ],
   "source": [
    "install.packages(\"e1071\")\n",
    "library(e1071)#this library has the function to train the model\n",
    "sms_classifier <- naiveBayes(sms_train, sms_train_labels)"
   ]
  },
  {
   "cell_type": "markdown",
   "metadata": {},
   "source": [
    "By now, we already have the model,lets evaluate the performance"
   ]
  },
  {
   "cell_type": "code",
   "execution_count": 43,
   "metadata": {},
   "outputs": [
    {
     "name": "stderr",
     "output_type": "stream",
     "text": [
      "also installing the dependencies ‘gtools’, ‘gdata’\n",
      "\n",
      "Updating HTML index of packages in '.Library'\n",
      "Making 'packages.html' ... done\n"
     ]
    },
    {
     "name": "stdout",
     "output_type": "stream",
     "text": [
      "\n",
      " \n",
      "   Cell Contents\n",
      "|-------------------------|\n",
      "|                       N |\n",
      "|           N / Row Total |\n",
      "|           N / Col Total |\n",
      "|-------------------------|\n",
      "\n",
      " \n",
      "Total Observations in Table:  1393 \n",
      "\n",
      " \n",
      "             | actual \n",
      "   predicted |       ham |      spam | Row Total | \n",
      "-------------|-----------|-----------|-----------|\n",
      "         ham |      1202 |        20 |      1222 | \n",
      "             |     0.984 |     0.016 |     0.877 | \n",
      "             |     0.993 |     0.110 |           | \n",
      "-------------|-----------|-----------|-----------|\n",
      "        spam |         9 |       162 |       171 | \n",
      "             |     0.053 |     0.947 |     0.123 | \n",
      "             |     0.007 |     0.890 |           | \n",
      "-------------|-----------|-----------|-----------|\n",
      "Column Total |      1211 |       182 |      1393 | \n",
      "             |     0.869 |     0.131 |           | \n",
      "-------------|-----------|-----------|-----------|\n",
      "\n",
      " \n"
     ]
    }
   ],
   "source": [
    "sms_test_pred <- predict(sms_classifier, sms_test)#evaluates the predictions vs the true labels\n",
    "install.packages(\"gmodels\")\n",
    "library(gmodels)\n",
    "CrossTable(sms_test_pred, sms_test_labels,\n",
    "prop.chisq = FALSE, prop.t = FALSE,\n",
    "dnn = c('predicted', 'actual'))"
   ]
  },
  {
   "cell_type": "code",
   "execution_count": null,
   "metadata": {},
   "outputs": [],
   "source": []
  }
 ],
 "metadata": {
  "kernelspec": {
   "display_name": "R",
   "language": "R",
   "name": "conda-env-r-r"
  },
  "language_info": {
   "codemirror_mode": "r",
   "file_extension": ".r",
   "mimetype": "text/x-r-source",
   "name": "R",
   "pygments_lexer": "r",
   "version": "3.5.1"
  }
 },
 "nbformat": 4,
 "nbformat_minor": 4
}
